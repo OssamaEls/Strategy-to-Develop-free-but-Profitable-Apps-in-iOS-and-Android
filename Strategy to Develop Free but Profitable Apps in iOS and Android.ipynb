{
 "cells": [
  {
   "cell_type": "markdown",
   "metadata": {},
   "source": [
    "# Strategy to Develop Free but Profitable Apps in the App Store and Google Play Markets\n",
    "\n",
    "In this project, we pretend we're working as data analysts for a company that builds Android and iOS mobile apps. We make our apps available on Google Play and the App Store. <br><br>\n",
    "\n",
    "We only build apps that are free to download and install, and our main source of revenue consists of in-app ads. This means our revenue for any given app is mostly influenced by the number of users who use our app — the more users that see and engage with the ads, the better. Our goal for this project is to analyze data to help our developers understand what type of apps are likely to attract more users. <br> <br>\n",
    "\n",
    "To do this, we'll need to collect and analyze data about mobile apps available on Google Play and the App Store. <br>\n",
    "As of September 2018, there were approximately 2 million iOS apps available on the App Store, and 2.1 million Android apps on Google Play. <br> <br>\n",
    "\n",
    "Collecting data for over 4 million apps requires a significant amount of time and money, so we'll try to analyze a sample of the data instead. To avoid spending resources on collecting new data ourselves, we should first try to see if we can find any relevant existing data at no cost. Luckily, these are two data sets that seem suitable for our goals:\n",
    "\n",
    "- [A data set](https://www.kaggle.com/lava18/google-play-store-apps) containing data about approximately 10,000 Android apps from Google Play; the data was collected in August 2018. You can download the data set directly from [this link](https://dq-content.s3.amazonaws.com/350/googleplaystore.csv).\n",
    "- [A data set](https://www.kaggle.com/ramamet4/app-store-apple-data-set-10k-apps) containing data about approximately 7,000 iOS apps from the App Store; the data was collected in July 2017. You can download the data set directly from [this link](https://dq-content.s3.amazonaws.com/350/AppleStore.csv).\n",
    "\n",
    "\n",
    "## Summary table\n",
    "   **1 Initial exploration of the sample data <br>\n",
    "     2 Deleting a row with missing information <br>\n",
    "     3 Removing duplicate rows <br>\n",
    "     4 Removing apps of non-English audience <br>\n",
    "     5 Extracting the free apps <br>\n",
    "     6 Most common genres of the apps <br>\n",
    "     7 Most popular genres of iOS apps <br>\n",
    "     8 Most popular genres of Android apps <br>\n",
    "     9 Conclusions**"
   ]
  },
  {
   "cell_type": "markdown",
   "metadata": {},
   "source": [
    "# 1 Initial exploration of the sample data"
   ]
  },
  {
   "cell_type": "code",
   "execution_count": 1,
   "metadata": {},
   "outputs": [],
   "source": [
    "# Opening the files\n",
    "from csv import reader\n",
    "\n",
    "opened_Apple = open('AppleStore.csv', encoding='utf8')\n",
    "read_Apple = reader(opened_Apple)\n",
    "iOS_apps = list(read_Apple)\n",
    "iOS_header = iOS_apps[0]\n",
    "iOS_apps =iOS_apps[1:]\n",
    "\n",
    "opened_Google = open('googleplaystore.csv', encoding='utf8')\n",
    "read_Google = reader(opened_Google)\n",
    "android_apps = list(read_Google)\n",
    "android_header = android_apps[0]\n",
    "android_apps = android_apps[1:]"
   ]
  },
  {
   "cell_type": "markdown",
   "metadata": {},
   "source": [
    "To make it easier to explore the two data sets, we'll first write a function named explore_data() that we can use repeatedly to explore rows in a more readable way. We'll also add an option for our function to show the number of rows and columns for any data set."
   ]
  },
  {
   "cell_type": "code",
   "execution_count": 2,
   "metadata": {},
   "outputs": [],
   "source": [
    "# Defining a function to explore the data\n",
    "def explore_data(dataset, start, end, rows_and_columns=False):\n",
    "    dataset_slice = dataset[start:end]    \n",
    "    for row in dataset_slice:\n",
    "        print(row)\n",
    "        print('\\n') # adds a new (empty) line after each row\n",
    "\n",
    "    if rows_and_columns:\n",
    "        print('Number of rows:', len(dataset))\n",
    "        print('Number of columns:', len(dataset[0]))"
   ]
  },
  {
   "cell_type": "code",
   "execution_count": 3,
   "metadata": {},
   "outputs": [
    {
     "name": "stdout",
     "output_type": "stream",
     "text": [
      "['id', 'track_name', 'size_bytes', 'currency', 'price', 'rating_count_tot', 'rating_count_ver', 'user_rating', 'user_rating_ver', 'ver', 'cont_rating', 'prime_genre', 'sup_devices.num', 'ipadSc_urls.num', 'lang.num', 'vpp_lic']\n",
      "\n",
      "\n",
      "['284882215', 'Facebook', '389879808', 'USD', '0.0', '2974676', '212', '3.5', '3.5', '95.0', '4+', 'Social Networking', '37', '1', '29', '1']\n",
      "\n",
      "\n",
      "['389801252', 'Instagram', '113954816', 'USD', '0.0', '2161558', '1289', '4.5', '4.0', '10.23', '12+', 'Photo & Video', '37', '0', '29', '1']\n",
      "\n",
      "\n",
      "['529479190', 'Clash of Clans', '116476928', 'USD', '0.0', '2130805', '579', '4.5', '4.5', '9.24.12', '9+', 'Games', '38', '5', '18', '1']\n",
      "\n",
      "\n",
      "['420009108', 'Temple Run', '65921024', 'USD', '0.0', '1724546', '3842', '4.5', '4.0', '1.6.2', '9+', 'Games', '40', '5', '1', '1']\n",
      "\n",
      "\n",
      "['284035177', 'Pandora - Music & Radio', '130242560', 'USD', '0.0', '1126879', '3594', '4.0', '4.5', '8.4.1', '12+', 'Music', '37', '4', '1', '1']\n",
      "\n",
      "\n",
      "['429047995', 'Pinterest', '74778624', 'USD', '0.0', '1061624', '1814', '4.5', '4.0', '6.26', '12+', 'Social Networking', '37', '5', '27', '1']\n",
      "\n",
      "\n",
      "['282935706', 'Bible', '92774400', 'USD', '0.0', '985920', '5320', '4.5', '5.0', '7.5.1', '4+', 'Reference', '37', '5', '45', '1']\n",
      "\n",
      "\n",
      "['553834731', 'Candy Crush Saga', '222846976', 'USD', '0.0', '961794', '2453', '4.5', '4.5', '1.101.0', '4+', 'Games', '43', '5', '24', '1']\n",
      "\n",
      "\n",
      "['324684580', 'Spotify Music', '132510720', 'USD', '0.0', '878563', '8253', '4.5', '4.5', '8.4.3', '12+', 'Music', '37', '5', '18', '1']\n",
      "\n",
      "\n",
      "['343200656', 'Angry Birds', '175966208', 'USD', '0.0', '824451', '107', '4.5', '3.0', '7.4.0', '4+', 'Games', '38', '0', '10', '1']\n",
      "\n",
      "\n",
      "Number of rows: 7197\n",
      "Number of columns: 16\n"
     ]
    }
   ],
   "source": [
    "# Printing the header and the first ten rows of iOS and looking at the size of the data\n",
    "print(iOS_header)\n",
    "print('\\n')\n",
    "explore_data(iOS_apps, 0, 10, rows_and_columns=True)"
   ]
  },
  {
   "cell_type": "code",
   "execution_count": 4,
   "metadata": {},
   "outputs": [
    {
     "name": "stdout",
     "output_type": "stream",
     "text": [
      "['App', 'Category', 'Rating', 'Reviews', 'Size', 'Installs', 'Type', 'Price', 'Content Rating', 'Genres', 'Last Updated', 'Current Ver', 'Android Ver']\n",
      "\n",
      "\n",
      "['Photo Editor & Candy Camera & Grid & ScrapBook', 'ART_AND_DESIGN', '4.1', '159', '19M', '10,000+', 'Free', '0', 'Everyone', 'Art & Design', 'January 7, 2018', '1.0.0', '4.0.3 and up']\n",
      "\n",
      "\n",
      "['Coloring book moana', 'ART_AND_DESIGN', '3.9', '967', '14M', '500,000+', 'Free', '0', 'Everyone', 'Art & Design;Pretend Play', 'January 15, 2018', '2.0.0', '4.0.3 and up']\n",
      "\n",
      "\n",
      "['U Launcher Lite – FREE Live Cool Themes, Hide Apps', 'ART_AND_DESIGN', '4.7', '87510', '8.7M', '5,000,000+', 'Free', '0', 'Everyone', 'Art & Design', 'August 1, 2018', '1.2.4', '4.0.3 and up']\n",
      "\n",
      "\n",
      "['Sketch - Draw & Paint', 'ART_AND_DESIGN', '4.5', '215644', '25M', '50,000,000+', 'Free', '0', 'Teen', 'Art & Design', 'June 8, 2018', 'Varies with device', '4.2 and up']\n",
      "\n",
      "\n",
      "['Pixel Draw - Number Art Coloring Book', 'ART_AND_DESIGN', '4.3', '967', '2.8M', '100,000+', 'Free', '0', 'Everyone', 'Art & Design;Creativity', 'June 20, 2018', '1.1', '4.4 and up']\n",
      "\n",
      "\n",
      "['Paper flowers instructions', 'ART_AND_DESIGN', '4.4', '167', '5.6M', '50,000+', 'Free', '0', 'Everyone', 'Art & Design', 'March 26, 2017', '1.0', '2.3 and up']\n",
      "\n",
      "\n",
      "['Smoke Effect Photo Maker - Smoke Editor', 'ART_AND_DESIGN', '3.8', '178', '19M', '50,000+', 'Free', '0', 'Everyone', 'Art & Design', 'April 26, 2018', '1.1', '4.0.3 and up']\n",
      "\n",
      "\n",
      "['Infinite Painter', 'ART_AND_DESIGN', '4.1', '36815', '29M', '1,000,000+', 'Free', '0', 'Everyone', 'Art & Design', 'June 14, 2018', '6.1.61.1', '4.2 and up']\n",
      "\n",
      "\n",
      "['Garden Coloring Book', 'ART_AND_DESIGN', '4.4', '13791', '33M', '1,000,000+', 'Free', '0', 'Everyone', 'Art & Design', 'September 20, 2017', '2.9.2', '3.0 and up']\n",
      "\n",
      "\n",
      "['Kids Paint Free - Drawing Fun', 'ART_AND_DESIGN', '4.7', '121', '3.1M', '10,000+', 'Free', '0', 'Everyone', 'Art & Design;Creativity', 'July 3, 2018', '2.8', '4.0.3 and up']\n",
      "\n",
      "\n",
      "Number of rows: 10841\n",
      "Number of columns: 13\n"
     ]
    }
   ],
   "source": [
    "# Printing the header and the first ten rows of android_apps and looking at the size of the data\n",
    "print(android_header)\n",
    "print('\\n')\n",
    "explore_data(android_apps, 0, 10, rows_and_columns=True)"
   ]
  },
  {
   "cell_type": "markdown",
   "metadata": {},
   "source": [
    "We know from the [description of the iOS dataset](https://www.kaggle.com/ramamet4/app-store-apple-data-set-10k-apps) the meaning of its columns:\n",
    "\n",
    "1. `id` : App ID\n",
    "\n",
    "2. `track_name`: App Name\n",
    "\n",
    "3. `size_bytes`: Size (in Bytes)\n",
    "\n",
    "4. `currency`: Currency Type\n",
    "\n",
    "5. `price`: Price amount\n",
    "\n",
    "6. `rating_count_tot`: User Rating counts (for all versions)\n",
    "\n",
    "7. `rating_count_ver`: User Rating counts (for current version)\n",
    "\n",
    "8. `user_rating` : Average User Rating value (for all versions)\n",
    "\n",
    "9. `userratingver`: Average User Rating value (for current version)\n",
    "\n",
    "10. `ver` : Latest version code\n",
    "\n",
    "11. `cont_rating`: Content Rating\n",
    "\n",
    "12. `prime_genre`: Primary Genre\n",
    "\n",
    "13. `sup_devices.num`: Number of supporting devices\n",
    "\n",
    "14. `ipadSc_urls.num`: Number of screenshots showed for display\n",
    "\n",
    "15. `lang.num`: Number of supported languages\n",
    "\n",
    "16. `vpp_lic`: Vpp Device Based Licensing Enabled\n",
    "\n",
    "Hence, the useful columns useful for our analysis are the following ones: `track_name`, `currency`, `price`, `rating_count_tot`, `rating_count_ver`, and `prime_genre`.\n",
    "\n",
    "\n",
    "The meaning of the columns in the Google Play Store apps dataset is also described [here](https://www.kaggle.com/lava18/google-play-store-apps):\n",
    "1. `App`: Application name\n",
    "2. `Category`: Category the app belongs to\n",
    "3. `Rating`: Overall user rating of the app (as when scraped)\n",
    "4. `Reviews`: Number of user reviews for the app (as when scraped)\n",
    "5. `Size`: Size of the app (as when scraped)\n",
    "6. `Installs`: Number of user downloads/installs for the app (as when scraped)\n",
    "7. `Type`: Paid or Free\n",
    "8. `Price`: Price of the app (as when scraped)\n",
    "9. `Content Rating`: Age group the app is targeted at - Children / Mature 21+ / Adult\n",
    "10. `Genres`: An app can belong to multiple genres (apart from its main category). For eg, a musical family game will belong to Music, Game, Family genres.\n",
    "11. `Last Updated`: Date when the app was last updated on Play Store (as when scraped)\n",
    "12. `Current Ver`: Current version of the app available on Play Store (as when scraped)\n",
    "13. `Android Ver`: Min required Android version (as when scraped)\n",
    "\n",
    "The useful columns for our analysis are: `App`, `Category`, `Reviews`, `Installs`, `Type`, `Price`, and `Genres`."
   ]
  },
  {
   "cell_type": "markdown",
   "metadata": {},
   "source": [
    "# 2 Deleting a row with missing information"
   ]
  },
  {
   "cell_type": "markdown",
   "metadata": {},
   "source": [
    "[One of the discussions](https://www.kaggle.com/lava18/google-play-store-apps/discussion/66015) on the Google Play dataset describes an error for row 10472. <br>\n",
    "Basically it is said that the `Category` value is missing. Let's check by comparing against one row which has all values."
   ]
  },
  {
   "cell_type": "code",
   "execution_count": 5,
   "metadata": {},
   "outputs": [
    {
     "name": "stdout",
     "output_type": "stream",
     "text": [
      "['App', 'Category', 'Rating', 'Reviews', 'Size', 'Installs', 'Type', 'Price', 'Content Rating', 'Genres', 'Last Updated', 'Current Ver', 'Android Ver']\n",
      "\n",
      "\n",
      "['Life Made WI-Fi Touchscreen Photo Frame', '1.9', '19', '3.0M', '1,000+', 'Free', '0', 'Everyone', '', 'February 11, 2018', '1.0.19', '4.0 and up']\n",
      "\n",
      "\n",
      "['Photo Editor & Candy Camera & Grid & ScrapBook', 'ART_AND_DESIGN', '4.1', '159', '19M', '10,000+', 'Free', '0', 'Everyone', 'Art & Design', 'January 7, 2018', '1.0.0', '4.0.3 and up']\n"
     ]
    }
   ],
   "source": [
    "print(android_header)\n",
    "print('\\n')\n",
    "print(android_apps[10472])\n",
    "print('\\n')\n",
    "print(android_apps[0])"
   ]
  },
  {
   "cell_type": "markdown",
   "metadata": {},
   "source": [
    "Effectively the `Category` value is mssing, leading to a column shift for next columns. Let's remove this row and check the dataset size before and after removing the row."
   ]
  },
  {
   "cell_type": "code",
   "execution_count": 6,
   "metadata": {},
   "outputs": [
    {
     "name": "stdout",
     "output_type": "stream",
     "text": [
      "10841\n",
      "10840\n"
     ]
    }
   ],
   "source": [
    "print(len(android_apps))\n",
    "del android_apps[10472]  # don't run this more than once\n",
    "print(len(android_apps))"
   ]
  },
  {
   "cell_type": "markdown",
   "metadata": {},
   "source": [
    "# 3 Removing duplicate rows\n",
    "It was spotted in the [discussion section](https://www.kaggle.com/lava18/google-play-store-apps/discussion) of the Google Play dataset that some apps have duplicate entries.<br>For instance, Instagram has four entries:"
   ]
  },
  {
   "cell_type": "code",
   "execution_count": 7,
   "metadata": {},
   "outputs": [
    {
     "name": "stdout",
     "output_type": "stream",
     "text": [
      "['Instagram', 'SOCIAL', '4.5', '66577313', 'Varies with device', '1,000,000,000+', 'Free', '0', 'Teen', 'Social', 'July 31, 2018', 'Varies with device', 'Varies with device']\n",
      "['Instagram', 'SOCIAL', '4.5', '66577446', 'Varies with device', '1,000,000,000+', 'Free', '0', 'Teen', 'Social', 'July 31, 2018', 'Varies with device', 'Varies with device']\n",
      "['Instagram', 'SOCIAL', '4.5', '66577313', 'Varies with device', '1,000,000,000+', 'Free', '0', 'Teen', 'Social', 'July 31, 2018', 'Varies with device', 'Varies with device']\n",
      "['Instagram', 'SOCIAL', '4.5', '66509917', 'Varies with device', '1,000,000,000+', 'Free', '0', 'Teen', 'Social', 'July 31, 2018', 'Varies with device', 'Varies with device']\n"
     ]
    }
   ],
   "source": [
    "for app in android_apps:\n",
    "    name = app[0]\n",
    "    if name == 'Instagram':\n",
    "        print(app)"
   ]
  },
  {
   "cell_type": "markdown",
   "metadata": {},
   "source": [
    "All column values are identical but the 4th column, which corresponds to the number of user reviews for the app (as when scraped). <br>\n",
    "We don't want to count certain apps more than once when we analyze data, so we need to remove the duplicate entries and keep only one entry per app. <br>\n",
    "Intuitively, the higher the number of reviews, the more recent the data should be. Therefore we'll select the rows where the number of reviews is the highest.<br> <br>\n",
    "But first, let's see how many duplicate apps there are, and let's keep only one row for each of them."
   ]
  },
  {
   "cell_type": "code",
   "execution_count": 8,
   "metadata": {},
   "outputs": [
    {
     "name": "stdout",
     "output_type": "stream",
     "text": [
      "Number of duplicate apps:  1181\n",
      "\n",
      "\n",
      "Example of duplicate apps:  ['Quick PDF Scanner + OCR FREE', 'Box', 'Google My Business', 'ZOOM Cloud Meetings', 'join.me - Simple Meetings', 'Box', 'Zenefits', 'Google Ads', 'Google My Business', 'Slack']\n"
     ]
    }
   ],
   "source": [
    "# Creating two lists: one for storing the name of duplicate apps, and one for storing the name of unique apps.\n",
    "duplicate_apps = []\n",
    "unique_apps =[]\n",
    "\n",
    "for app in android_apps:\n",
    "    name = app[0]\n",
    "    if name in unique_apps:\n",
    "        duplicate_apps.append(name)\n",
    "    else:\n",
    "        unique_apps.append(name)\n",
    "\n",
    "print('Number of duplicate apps: ', len(duplicate_apps))\n",
    "print('\\n')\n",
    "print('Example of duplicate apps: ', duplicate_apps[:10])\n"
   ]
  },
  {
   "cell_type": "markdown",
   "metadata": {},
   "source": [
    "To remove the duplicates, we will:\n",
    "\n",
    "- Create a dictionary, where each dictionary key is a unique app name and the corresponding dictionary value is the highest number of reviews of that app.\n",
    "- Use the information stored in the dictionary and create a new data set, which will have only one entry per app (and for each app, we'll only select the entry with the highest number of reviews)."
   ]
  },
  {
   "cell_type": "code",
   "execution_count": 9,
   "metadata": {},
   "outputs": [
    {
     "name": "stdout",
     "output_type": "stream",
     "text": [
      "Expected length:  9659\n",
      "Actual length:  9659\n"
     ]
    }
   ],
   "source": [
    "# Creation of the dictionary\n",
    "max_reviews = {}\n",
    "\n",
    "for app in android_apps:\n",
    "    name = app[0]\n",
    "    no_reviews = int(app[3])\n",
    "    if name in max_reviews and max_reviews[name]<no_reviews:\n",
    "        max_reviews[name] = no_reviews\n",
    "    elif name not in max_reviews:\n",
    "        max_reviews[name] = no_reviews\n",
    "        \n",
    "print('Expected length: ', len(android_apps)-len(duplicate_apps))\n",
    "print('Actual length: ', len(max_reviews))"
   ]
  },
  {
   "cell_type": "markdown",
   "metadata": {},
   "source": [
    "Now, we'll use this dictionary to create a new dataset without the duplicate entries. <br>\n",
    "As it is possible that some duplicate entries have the same max number of reviews, we'll take the first one. That's the purpose of tha `app_added` variable."
   ]
  },
  {
   "cell_type": "code",
   "execution_count": 10,
   "metadata": {},
   "outputs": [
    {
     "name": "stdout",
     "output_type": "stream",
     "text": [
      "['Photo Editor & Candy Camera & Grid & ScrapBook', 'ART_AND_DESIGN', '4.1', '159', '19M', '10,000+', 'Free', '0', 'Everyone', 'Art & Design', 'January 7, 2018', '1.0.0', '4.0.3 and up']\n",
      "\n",
      "\n",
      "['U Launcher Lite – FREE Live Cool Themes, Hide Apps', 'ART_AND_DESIGN', '4.7', '87510', '8.7M', '5,000,000+', 'Free', '0', 'Everyone', 'Art & Design', 'August 1, 2018', '1.2.4', '4.0.3 and up']\n",
      "\n",
      "\n",
      "['Sketch - Draw & Paint', 'ART_AND_DESIGN', '4.5', '215644', '25M', '50,000,000+', 'Free', '0', 'Teen', 'Art & Design', 'June 8, 2018', 'Varies with device', '4.2 and up']\n",
      "\n",
      "\n",
      "['Pixel Draw - Number Art Coloring Book', 'ART_AND_DESIGN', '4.3', '967', '2.8M', '100,000+', 'Free', '0', 'Everyone', 'Art & Design;Creativity', 'June 20, 2018', '1.1', '4.4 and up']\n",
      "\n",
      "\n",
      "['Paper flowers instructions', 'ART_AND_DESIGN', '4.4', '167', '5.6M', '50,000+', 'Free', '0', 'Everyone', 'Art & Design', 'March 26, 2017', '1.0', '2.3 and up']\n",
      "\n",
      "\n",
      "['Smoke Effect Photo Maker - Smoke Editor', 'ART_AND_DESIGN', '3.8', '178', '19M', '50,000+', 'Free', '0', 'Everyone', 'Art & Design', 'April 26, 2018', '1.1', '4.0.3 and up']\n",
      "\n",
      "\n",
      "['Infinite Painter', 'ART_AND_DESIGN', '4.1', '36815', '29M', '1,000,000+', 'Free', '0', 'Everyone', 'Art & Design', 'June 14, 2018', '6.1.61.1', '4.2 and up']\n",
      "\n",
      "\n",
      "['Garden Coloring Book', 'ART_AND_DESIGN', '4.4', '13791', '33M', '1,000,000+', 'Free', '0', 'Everyone', 'Art & Design', 'September 20, 2017', '2.9.2', '3.0 and up']\n",
      "\n",
      "\n",
      "['Kids Paint Free - Drawing Fun', 'ART_AND_DESIGN', '4.7', '121', '3.1M', '10,000+', 'Free', '0', 'Everyone', 'Art & Design;Creativity', 'July 3, 2018', '2.8', '4.0.3 and up']\n",
      "\n",
      "\n",
      "['Text on Photo - Fonteee', 'ART_AND_DESIGN', '4.4', '13880', '28M', '1,000,000+', 'Free', '0', 'Everyone', 'Art & Design', 'October 27, 2017', '1.0.4', '4.1 and up']\n",
      "\n",
      "\n",
      "Number of rows: 9659\n",
      "Number of columns: 13\n"
     ]
    }
   ],
   "source": [
    "android_apps1 = []\n",
    "# As some duplicate entries may have the same max number of reviews,\n",
    "# we want to make sure we add the row to android_apps1 only once\n",
    "app_added = []\n",
    "for app in android_apps:\n",
    "    name = app[0]\n",
    "    no_reviews = int(app[3])\n",
    "    if max_reviews[name] == no_reviews and (name not in app_added):\n",
    "        android_apps1.append(app)\n",
    "        app_added.append(name)\n",
    "\n",
    "explore_data(android_apps1, 0, 10, True)"
   ]
  },
  {
   "cell_type": "markdown",
   "metadata": {},
   "source": [
    "# 4 Removing apps of non-English audience\n",
    "However, if we explore the data long enough, we'll find that both data sets have apps with names that suggest they are not directed toward an English-speaking audience."
   ]
  },
  {
   "cell_type": "code",
   "execution_count": 11,
   "metadata": {},
   "outputs": [
    {
     "name": "stdout",
     "output_type": "stream",
     "text": [
      "爱奇艺PPS -《欢乐颂2》电视剧热播\n",
      "【脱出ゲーム】絶対に最後までプレイしないで 〜謎解き＆ブロックパズル〜\n",
      "\n",
      "\n",
      "中国語 AQリスニング\n",
      "لعبة تقدر تربح DZ\n"
     ]
    }
   ],
   "source": [
    "print(iOS_apps[813][1])\n",
    "print(iOS_apps[6731][1])\n",
    "print('\\n')\n",
    "print(android_apps1[4412][0])\n",
    "print(android_apps1[7940][0])"
   ]
  },
  {
   "cell_type": "markdown",
   "metadata": {},
   "source": [
    "We're not interested in keeping these apps, so we'll remove them. One way to go about this is to remove each app with a name containing a symbol that is not commonly used in English text — English text usually includes letters from the English alphabet, numbers composed of digits from 0 to 9, punctuation marks (., !, ?, ;), and other symbols (+, *, /).<br> <br>\n",
    "The numbers corresponding to the characters we commonly use in an English text are all in the range 0 to 127, according to the ASCII (American Standard Code for Information Interchange) system. Based on this number range, we can build a function that detects whether a character belongs to the set of common English characters or not. If the number is equal to or less than 127, then the character belongs to the set of common English characters.\n",
    "\n",
    "If an app name contains a character that is greater than 127, then it probably means that the app has a non-English name."
   ]
  },
  {
   "cell_type": "code",
   "execution_count": 12,
   "metadata": {},
   "outputs": [
    {
     "name": "stdout",
     "output_type": "stream",
     "text": [
      "True\n",
      "False\n",
      "False\n",
      "False\n"
     ]
    }
   ],
   "source": [
    "# Creating a function to find if a string contains non-ASCII characters\n",
    "def isEnglish(s):   \n",
    "    for c in s:\n",
    "        if ord(c)>127:\n",
    "            return False\n",
    "    return True\n",
    "\n",
    "print(isEnglish('Instagram'))\n",
    "print(isEnglish('爱奇艺PPS -《欢乐颂2》电视剧热播'))\n",
    "print(isEnglish('Docs To Go™ Free Office Suite'))\n",
    "print(isEnglish('Instachat 😜'))\n"
   ]
  },
  {
   "cell_type": "markdown",
   "metadata": {},
   "source": [
    "Hmmm... This function needs to be revisited, as we can see that emojis and characters like `™` fall outside the ASCII range and have corresponding numbers over 127. <br>\n",
    "To minimize the impact of data loss, we'll only remove an app if its name has more than three characters with corresponding numbers falling outside the ASCII range. This means all English apps with up to three emoji or other special characters will still be labeled as English."
   ]
  },
  {
   "cell_type": "code",
   "execution_count": 13,
   "metadata": {},
   "outputs": [
    {
     "name": "stdout",
     "output_type": "stream",
     "text": [
      "False\n",
      "True\n",
      "True\n"
     ]
    }
   ],
   "source": [
    "# Creating a function to find if a string contains more than 3 non-ASCII characters\n",
    "def isEnglish(s):\n",
    "    n_non_English = 0\n",
    "    for c in s:\n",
    "        if ord(c)>127:\n",
    "            n_non_English = n_non_English + 1\n",
    "    if n_non_English>3:\n",
    "        return False\n",
    "    else:\n",
    "        return True\n",
    "\n",
    "print(isEnglish('爱奇艺PPS -《欢乐颂2》电视剧热播'))\n",
    "print(isEnglish('Docs To Go™ Free Office Suite'))\n",
    "print(isEnglish('Instachat 😜'))"
   ]
  },
  {
   "cell_type": "markdown",
   "metadata": {},
   "source": [
    "It seems to work better! <br>\n",
    "Now let's filter out non-English apps from both data sets."
   ]
  },
  {
   "cell_type": "code",
   "execution_count": 14,
   "metadata": {},
   "outputs": [],
   "source": [
    "iOS_English_apps = []\n",
    "android_English_apps =[]\n",
    "\n",
    "for app in iOS_apps:\n",
    "    name = app[1]\n",
    "    if isEnglish(name):\n",
    "        iOS_English_apps.append(app)\n",
    "\n",
    "for app in android_apps1:\n",
    "    name = app[0]\n",
    "    if isEnglish(name):\n",
    "        android_English_apps.append(app)"
   ]
  },
  {
   "cell_type": "code",
   "execution_count": 15,
   "metadata": {},
   "outputs": [
    {
     "name": "stdout",
     "output_type": "stream",
     "text": [
      "['284882215', 'Facebook', '389879808', 'USD', '0.0', '2974676', '212', '3.5', '3.5', '95.0', '4+', 'Social Networking', '37', '1', '29', '1']\n",
      "\n",
      "\n",
      "['389801252', 'Instagram', '113954816', 'USD', '0.0', '2161558', '1289', '4.5', '4.0', '10.23', '12+', 'Photo & Video', '37', '0', '29', '1']\n",
      "\n",
      "\n",
      "['529479190', 'Clash of Clans', '116476928', 'USD', '0.0', '2130805', '579', '4.5', '4.5', '9.24.12', '9+', 'Games', '38', '5', '18', '1']\n",
      "\n",
      "\n",
      "['420009108', 'Temple Run', '65921024', 'USD', '0.0', '1724546', '3842', '4.5', '4.0', '1.6.2', '9+', 'Games', '40', '5', '1', '1']\n",
      "\n",
      "\n",
      "['284035177', 'Pandora - Music & Radio', '130242560', 'USD', '0.0', '1126879', '3594', '4.0', '4.5', '8.4.1', '12+', 'Music', '37', '4', '1', '1']\n",
      "\n",
      "\n",
      "['429047995', 'Pinterest', '74778624', 'USD', '0.0', '1061624', '1814', '4.5', '4.0', '6.26', '12+', 'Social Networking', '37', '5', '27', '1']\n",
      "\n",
      "\n",
      "['282935706', 'Bible', '92774400', 'USD', '0.0', '985920', '5320', '4.5', '5.0', '7.5.1', '4+', 'Reference', '37', '5', '45', '1']\n",
      "\n",
      "\n",
      "['553834731', 'Candy Crush Saga', '222846976', 'USD', '0.0', '961794', '2453', '4.5', '4.5', '1.101.0', '4+', 'Games', '43', '5', '24', '1']\n",
      "\n",
      "\n",
      "['324684580', 'Spotify Music', '132510720', 'USD', '0.0', '878563', '8253', '4.5', '4.5', '8.4.3', '12+', 'Music', '37', '5', '18', '1']\n",
      "\n",
      "\n",
      "['343200656', 'Angry Birds', '175966208', 'USD', '0.0', '824451', '107', '4.5', '3.0', '7.4.0', '4+', 'Games', '38', '0', '10', '1']\n",
      "\n",
      "\n",
      "Number of rows: 6183\n",
      "Number of columns: 16\n"
     ]
    }
   ],
   "source": [
    "explore_data(iOS_English_apps, 0, 10, True)"
   ]
  },
  {
   "cell_type": "code",
   "execution_count": 16,
   "metadata": {},
   "outputs": [
    {
     "name": "stdout",
     "output_type": "stream",
     "text": [
      "['Photo Editor & Candy Camera & Grid & ScrapBook', 'ART_AND_DESIGN', '4.1', '159', '19M', '10,000+', 'Free', '0', 'Everyone', 'Art & Design', 'January 7, 2018', '1.0.0', '4.0.3 and up']\n",
      "\n",
      "\n",
      "['U Launcher Lite – FREE Live Cool Themes, Hide Apps', 'ART_AND_DESIGN', '4.7', '87510', '8.7M', '5,000,000+', 'Free', '0', 'Everyone', 'Art & Design', 'August 1, 2018', '1.2.4', '4.0.3 and up']\n",
      "\n",
      "\n",
      "['Sketch - Draw & Paint', 'ART_AND_DESIGN', '4.5', '215644', '25M', '50,000,000+', 'Free', '0', 'Teen', 'Art & Design', 'June 8, 2018', 'Varies with device', '4.2 and up']\n",
      "\n",
      "\n",
      "['Pixel Draw - Number Art Coloring Book', 'ART_AND_DESIGN', '4.3', '967', '2.8M', '100,000+', 'Free', '0', 'Everyone', 'Art & Design;Creativity', 'June 20, 2018', '1.1', '4.4 and up']\n",
      "\n",
      "\n",
      "['Paper flowers instructions', 'ART_AND_DESIGN', '4.4', '167', '5.6M', '50,000+', 'Free', '0', 'Everyone', 'Art & Design', 'March 26, 2017', '1.0', '2.3 and up']\n",
      "\n",
      "\n",
      "['Smoke Effect Photo Maker - Smoke Editor', 'ART_AND_DESIGN', '3.8', '178', '19M', '50,000+', 'Free', '0', 'Everyone', 'Art & Design', 'April 26, 2018', '1.1', '4.0.3 and up']\n",
      "\n",
      "\n",
      "['Infinite Painter', 'ART_AND_DESIGN', '4.1', '36815', '29M', '1,000,000+', 'Free', '0', 'Everyone', 'Art & Design', 'June 14, 2018', '6.1.61.1', '4.2 and up']\n",
      "\n",
      "\n",
      "['Garden Coloring Book', 'ART_AND_DESIGN', '4.4', '13791', '33M', '1,000,000+', 'Free', '0', 'Everyone', 'Art & Design', 'September 20, 2017', '2.9.2', '3.0 and up']\n",
      "\n",
      "\n",
      "['Kids Paint Free - Drawing Fun', 'ART_AND_DESIGN', '4.7', '121', '3.1M', '10,000+', 'Free', '0', 'Everyone', 'Art & Design;Creativity', 'July 3, 2018', '2.8', '4.0.3 and up']\n",
      "\n",
      "\n",
      "['Text on Photo - Fonteee', 'ART_AND_DESIGN', '4.4', '13880', '28M', '1,000,000+', 'Free', '0', 'Everyone', 'Art & Design', 'October 27, 2017', '1.0.4', '4.1 and up']\n",
      "\n",
      "\n",
      "Number of rows: 9614\n",
      "Number of columns: 13\n"
     ]
    }
   ],
   "source": [
    "explore_data(android_English_apps, 0, 10, True)"
   ]
  },
  {
   "cell_type": "markdown",
   "metadata": {},
   "source": [
    "# 5 Extracting the free apps\n",
    "As we mentioned in the introduction, we only build apps that are free to download and install, and our main source of revenue consists of in-app ads. Our data sets contain both free and non-free apps; we'll need to isolate only the free apps for our analysis."
   ]
  },
  {
   "cell_type": "code",
   "execution_count": 17,
   "metadata": {},
   "outputs": [
    {
     "name": "stdout",
     "output_type": "stream",
     "text": [
      "['284882215', 'Facebook', '389879808', 'USD', '0.0', '2974676', '212', '3.5', '3.5', '95.0', '4+', 'Social Networking', '37', '1', '29', '1']\n",
      "\n",
      "\n",
      "['389801252', 'Instagram', '113954816', 'USD', '0.0', '2161558', '1289', '4.5', '4.0', '10.23', '12+', 'Photo & Video', '37', '0', '29', '1']\n",
      "\n",
      "\n",
      "['529479190', 'Clash of Clans', '116476928', 'USD', '0.0', '2130805', '579', '4.5', '4.5', '9.24.12', '9+', 'Games', '38', '5', '18', '1']\n",
      "\n",
      "\n",
      "['420009108', 'Temple Run', '65921024', 'USD', '0.0', '1724546', '3842', '4.5', '4.0', '1.6.2', '9+', 'Games', '40', '5', '1', '1']\n",
      "\n",
      "\n",
      "['284035177', 'Pandora - Music & Radio', '130242560', 'USD', '0.0', '1126879', '3594', '4.0', '4.5', '8.4.1', '12+', 'Music', '37', '4', '1', '1']\n",
      "\n",
      "\n",
      "['429047995', 'Pinterest', '74778624', 'USD', '0.0', '1061624', '1814', '4.5', '4.0', '6.26', '12+', 'Social Networking', '37', '5', '27', '1']\n",
      "\n",
      "\n",
      "['282935706', 'Bible', '92774400', 'USD', '0.0', '985920', '5320', '4.5', '5.0', '7.5.1', '4+', 'Reference', '37', '5', '45', '1']\n",
      "\n",
      "\n",
      "['553834731', 'Candy Crush Saga', '222846976', 'USD', '0.0', '961794', '2453', '4.5', '4.5', '1.101.0', '4+', 'Games', '43', '5', '24', '1']\n",
      "\n",
      "\n",
      "['324684580', 'Spotify Music', '132510720', 'USD', '0.0', '878563', '8253', '4.5', '4.5', '8.4.3', '12+', 'Music', '37', '5', '18', '1']\n",
      "\n",
      "\n",
      "['343200656', 'Angry Birds', '175966208', 'USD', '0.0', '824451', '107', '4.5', '3.0', '7.4.0', '4+', 'Games', '38', '0', '10', '1']\n",
      "\n",
      "\n",
      "Number of rows: 3222\n",
      "Number of columns: 16\n"
     ]
    }
   ],
   "source": [
    "# For iOS app, we'll check if the value in \"price\" column is higher than 0.0\n",
    "iOS_apps_free = []\n",
    "for app in iOS_English_apps:\n",
    "    price = float(app[4])\n",
    "    if not price >0.0:\n",
    "        iOS_apps_free.append(app)\n",
    "\n",
    "explore_data(iOS_apps_free, 0, 10, True)"
   ]
  },
  {
   "cell_type": "markdown",
   "metadata": {},
   "source": [
    "The number of English apps we had was 6183 apps. Now we just have 3222 free apps. That means that roughly only half of the English apps were free."
   ]
  },
  {
   "cell_type": "code",
   "execution_count": 18,
   "metadata": {},
   "outputs": [
    {
     "name": "stdout",
     "output_type": "stream",
     "text": [
      "['Photo Editor & Candy Camera & Grid & ScrapBook', 'ART_AND_DESIGN', '4.1', '159', '19M', '10,000+', 'Free', '0', 'Everyone', 'Art & Design', 'January 7, 2018', '1.0.0', '4.0.3 and up']\n",
      "\n",
      "\n",
      "['U Launcher Lite – FREE Live Cool Themes, Hide Apps', 'ART_AND_DESIGN', '4.7', '87510', '8.7M', '5,000,000+', 'Free', '0', 'Everyone', 'Art & Design', 'August 1, 2018', '1.2.4', '4.0.3 and up']\n",
      "\n",
      "\n",
      "['Sketch - Draw & Paint', 'ART_AND_DESIGN', '4.5', '215644', '25M', '50,000,000+', 'Free', '0', 'Teen', 'Art & Design', 'June 8, 2018', 'Varies with device', '4.2 and up']\n",
      "\n",
      "\n",
      "['Pixel Draw - Number Art Coloring Book', 'ART_AND_DESIGN', '4.3', '967', '2.8M', '100,000+', 'Free', '0', 'Everyone', 'Art & Design;Creativity', 'June 20, 2018', '1.1', '4.4 and up']\n",
      "\n",
      "\n",
      "['Paper flowers instructions', 'ART_AND_DESIGN', '4.4', '167', '5.6M', '50,000+', 'Free', '0', 'Everyone', 'Art & Design', 'March 26, 2017', '1.0', '2.3 and up']\n",
      "\n",
      "\n",
      "['Smoke Effect Photo Maker - Smoke Editor', 'ART_AND_DESIGN', '3.8', '178', '19M', '50,000+', 'Free', '0', 'Everyone', 'Art & Design', 'April 26, 2018', '1.1', '4.0.3 and up']\n",
      "\n",
      "\n",
      "['Infinite Painter', 'ART_AND_DESIGN', '4.1', '36815', '29M', '1,000,000+', 'Free', '0', 'Everyone', 'Art & Design', 'June 14, 2018', '6.1.61.1', '4.2 and up']\n",
      "\n",
      "\n",
      "['Garden Coloring Book', 'ART_AND_DESIGN', '4.4', '13791', '33M', '1,000,000+', 'Free', '0', 'Everyone', 'Art & Design', 'September 20, 2017', '2.9.2', '3.0 and up']\n",
      "\n",
      "\n",
      "['Kids Paint Free - Drawing Fun', 'ART_AND_DESIGN', '4.7', '121', '3.1M', '10,000+', 'Free', '0', 'Everyone', 'Art & Design;Creativity', 'July 3, 2018', '2.8', '4.0.3 and up']\n",
      "\n",
      "\n",
      "['Text on Photo - Fonteee', 'ART_AND_DESIGN', '4.4', '13880', '28M', '1,000,000+', 'Free', '0', 'Everyone', 'Art & Design', 'October 27, 2017', '1.0.4', '4.1 and up']\n",
      "\n",
      "\n",
      "Number of rows: 8864\n",
      "Number of columns: 13\n"
     ]
    }
   ],
   "source": [
    "# For android apps, we'll check if the value in \"Type\" column is \"Free\"\n",
    "android_apps_free = []\n",
    "for app in android_English_apps:\n",
    "    price = app[7]\n",
    "    if price == '0':\n",
    "        android_apps_free.append(app)\n",
    "\n",
    "explore_data(android_apps_free, 0, 10, True)"
   ]
  },
  {
   "cell_type": "markdown",
   "metadata": {},
   "source": [
    "Originally we had 9614 English android apps. Now we have 8863 free apps, which means around 90% of the English apps are free."
   ]
  },
  {
   "cell_type": "markdown",
   "metadata": {},
   "source": [
    "# 6 Most common genres of the apps\n",
    "As we mentioned in the introduction, our aim is to determine the kinds of apps that are likely to attract more users because our revenue is highly influenced by the number of people using our apps.\n",
    "\n",
    "To minimize risks and overhead, our validation strategy for an app idea is comprised of three steps:\n",
    "1. Build a minimal Android version of the app, and add it to Google Play.\n",
    "2. If the app has a good response from users, we develop it further.\n",
    "3. If the app is profitable after six months, we build an iOS version of the app and add it to the App Store.\n",
    "\n",
    "Because our end goal is to add the app on both Google Play and the App Store, we need to find app profiles that are successful on both markets. For instance, a profile that works well for both markets might be a productivity app that makes use of gamification.\n",
    "\n",
    "Let's begin the analysis by getting a sense of what are the most common genres for each market. For this, we'll need to build frequency tables for the `prime_genre` column of the App Store data set, and for the `Genres` and `Category` columns of the Google Play data set.<br>\n",
    "To analyze the frequency tables, we'll build a function (called display_table below) which can help us display the entries in the frequency table in a descending order."
   ]
  },
  {
   "cell_type": "code",
   "execution_count": 19,
   "metadata": {},
   "outputs": [],
   "source": [
    "# the freq_table() function takes in two inputs: dataset (which is expected to be a list of lists)\n",
    "# and index (which is expected to be an integer).\n",
    "# The function returns the frequency table (as a dictionary) for any column we want.\n",
    "# The frequencies are expressed as percentages.\n",
    "\n",
    "def freq_table(dataset, index):\n",
    "    frequency_occurence = {}\n",
    "    total = len(dataset)\n",
    "    for row in dataset:\n",
    "        a_point = row[index]\n",
    "        if a_point in frequency_occurence:\n",
    "            frequency_occurence[a_point] += 1/total*100\n",
    "        else:\n",
    "            frequency_occurence[a_point] = 1/total*100\n",
    "    return frequency_occurence\n",
    "\n",
    "#The display_table() function :\n",
    "#Takes in two parameters: dataset and index. dataset is expected to be a list of lists,\n",
    "#and index is expected to be an integer.\n",
    "#This function generates a frequency table using the freq_table() function\n",
    "#It transforms the frequency table into a list of tuples, then sorts the list in a descending order.\n",
    "#It prints the entries of the frequency table in descending order.\n",
    "\n",
    "def display_table(dataset, index):\n",
    "    table = freq_table(dataset, index)\n",
    "    table_display = []\n",
    "    for key in table:\n",
    "        key_val_as_tuple = (table[key], key)\n",
    "        table_display.append(key_val_as_tuple)\n",
    "\n",
    "    table_sorted = sorted(table_display, reverse = True)\n",
    "    for entry in table_sorted:\n",
    "        print(entry[1], ':', entry[0])"
   ]
  },
  {
   "cell_type": "code",
   "execution_count": 20,
   "metadata": {},
   "outputs": [
    {
     "name": "stdout",
     "output_type": "stream",
     "text": [
      "Games : 58.1626319056464\n",
      "Entertainment : 7.883302296710134\n",
      "Photo & Video : 4.965859714463075\n",
      "Education : 3.6623215394165176\n",
      "Social Networking : 3.2898820608317867\n",
      "Shopping : 2.6070763500931133\n",
      "Utilities : 2.5139664804469306\n",
      "Sports : 2.1415270018621997\n",
      "Music : 2.048417132216017\n",
      "Health & Fitness : 2.0173805090006227\n",
      "Productivity : 1.7380509000620747\n",
      "Lifestyle : 1.5828677839851035\n",
      "News : 1.3345747982619496\n",
      "Travel : 1.2414649286157668\n",
      "Finance : 1.1173184357541899\n",
      "Weather : 0.8690254500310364\n",
      "Food & Drink : 0.8069522036002481\n",
      "Reference : 0.558659217877095\n",
      "Business : 0.5276225946617009\n",
      "Book : 0.4345127250155184\n",
      "Navigation : 0.186219739292365\n",
      "Medical : 0.186219739292365\n",
      "Catalogs : 0.12414649286157665\n"
     ]
    }
   ],
   "source": [
    "# prime_genre of the Apple app store dataset is the 12th column\n",
    "display_table(iOS_apps_free, 11)"
   ]
  },
  {
   "cell_type": "markdown",
   "metadata": {},
   "source": [
    "\n",
    "\n",
    "We can see that among the free English apps, more than a half (58.16%) are games. Entertainment apps are close to 8%, followed by photo and video apps, which are close to 5%. Only 3.66% of the apps are designed for education, followed by social networking apps which amount for 3.29% of the apps in our data set.\n",
    "\n",
    "The general impression is that App Store (at least the part containing free English apps) is dominated by apps that are designed for fun (games, entertainment, photo and video, social networking, sports, music, etc.), while apps with practical purposes (education, shopping, utilities, productivity, lifestyle, etc.) are more rare. However, the fact that fun apps are the most numerous doesn't also imply that they also have the greatest number of users — the demand might not be the same as the offer.\n",
    "\n",
    "Let's continue by examining the Genres and Category columns of the Google Play data set (two columns which seem to be related).\n"
   ]
  },
  {
   "cell_type": "code",
   "execution_count": 21,
   "metadata": {},
   "outputs": [
    {
     "name": "stdout",
     "output_type": "stream",
     "text": [
      "FAMILY : 18.907942238266926\n",
      "GAME : 9.724729241877363\n",
      "TOOLS : 8.46119133574016\n",
      "BUSINESS : 4.591606498194979\n",
      "LIFESTYLE : 3.90342960288811\n",
      "PRODUCTIVITY : 3.8921480144404565\n",
      "FINANCE : 3.7003610108303455\n",
      "MEDICAL : 3.5311371841155417\n",
      "SPORTS : 3.3957581227436986\n",
      "PERSONALIZATION : 3.3167870036101235\n",
      "COMMUNICATION : 3.2378158844765483\n",
      "HEALTH_AND_FITNESS : 3.079873646209398\n",
      "PHOTOGRAPHY : 2.944494584837555\n",
      "NEWS_AND_MAGAZINES : 2.7978339350180583\n",
      "SOCIAL : 2.6624548736462152\n",
      "TRAVEL_AND_LOCAL : 2.335288808664261\n",
      "SHOPPING : 2.2450361010830324\n",
      "BOOKS_AND_REFERENCE : 2.14350180505415\n",
      "DATING : 1.861462093862813\n",
      "VIDEO_PLAYERS : 1.7937725631768928\n",
      "MAPS_AND_NAVIGATION : 1.398916967509025\n",
      "FOOD_AND_DRINK : 1.2409747292418778\n",
      "EDUCATION : 1.1620036101083042\n",
      "ENTERTAINMENT : 0.9589350180505433\n",
      "LIBRARIES_AND_DEMO : 0.9363718411552363\n",
      "AUTO_AND_VEHICLES : 0.9250902527075828\n",
      "HOUSE_AND_HOME : 0.8235559566787015\n",
      "WEATHER : 0.8009927797833946\n",
      "EVENTS : 0.7107400722021667\n",
      "PARENTING : 0.6543321299638993\n",
      "ART_AND_DESIGN : 0.6430505415162459\n",
      "COMICS : 0.6204873646209389\n",
      "BEAUTY : 0.5979241877256319\n"
     ]
    }
   ],
   "source": [
    "# category and genre of the Google Play dataset are the 2nd and 10th columns, respectively\n",
    "display_table(android_apps_free, 1)"
   ]
  },
  {
   "cell_type": "markdown",
   "metadata": {},
   "source": [
    "The landscape seems significantly different on Google Play: there are not that many apps designed for fun, and it seems that a good number of apps are designed for practical purposes (family, tools, business, lifestyle, productivity, etc.). However, if we investigate this further, we can see that the family category (which accounts for almost 19% of the apps) means mostly games for kids (see [here](https://play.google.com/store/apps/category/FAMILY?hl=en_GB)). <br><br>\n",
    "Even so, practical apps seem to have a better representation on Google Play compared to App Store. This picture is also confirmed by the frequency table we see for the Genres column:"
   ]
  },
  {
   "cell_type": "code",
   "execution_count": 22,
   "metadata": {},
   "outputs": [
    {
     "name": "stdout",
     "output_type": "stream",
     "text": [
      "Tools : 8.449909747292507\n",
      "Entertainment : 6.069494584837599\n",
      "Education : 5.34747292418777\n",
      "Business : 4.591606498194979\n",
      "Productivity : 3.8921480144404565\n",
      "Lifestyle : 3.8921480144404565\n",
      "Finance : 3.7003610108303455\n",
      "Medical : 3.5311371841155417\n",
      "Sports : 3.46344765342962\n",
      "Personalization : 3.3167870036101235\n",
      "Communication : 3.2378158844765483\n",
      "Action : 3.1024368231047053\n",
      "Health & Fitness : 3.079873646209398\n",
      "Photography : 2.944494584837555\n",
      "News & Magazines : 2.7978339350180583\n",
      "Social : 2.6624548736462152\n",
      "Travel & Local : 2.3240072202166075\n",
      "Shopping : 2.2450361010830324\n",
      "Books & Reference : 2.14350180505415\n",
      "Simulation : 2.041967509025268\n",
      "Dating : 1.861462093862813\n",
      "Arcade : 1.8501805054151597\n",
      "Video Players & Editors : 1.771209386281586\n",
      "Casual : 1.7599277978339327\n",
      "Maps & Navigation : 1.398916967509025\n",
      "Food & Drink : 1.2409747292418778\n",
      "Puzzle : 1.1281588447653441\n",
      "Racing : 0.9927797833935037\n",
      "Role Playing : 0.9363718411552363\n",
      "Libraries & Demo : 0.9363718411552363\n",
      "Auto & Vehicles : 0.9250902527075828\n",
      "Strategy : 0.9138086642599293\n",
      "House & Home : 0.8235559566787015\n",
      "Weather : 0.8009927797833946\n",
      "Events : 0.7107400722021667\n",
      "Adventure : 0.6768953068592063\n",
      "Comics : 0.6092057761732854\n",
      "Beauty : 0.5979241877256319\n",
      "Art & Design : 0.5979241877256319\n",
      "Parenting : 0.4963898916967507\n",
      "Card : 0.451263537906137\n",
      "Casino : 0.42870036101083014\n",
      "Trivia : 0.4174187725631767\n",
      "Educational;Education : 0.3948555956678699\n",
      "Board : 0.38357400722021645\n",
      "Educational : 0.372292418772563\n",
      "Education;Education : 0.33844765342960276\n",
      "Word : 0.2594765342960288\n",
      "Casual;Pretend Play : 0.23691335740072195\n",
      "Music : 0.20306859205776168\n",
      "Racing;Action & Adventure : 0.1692238267148014\n",
      "Puzzle;Brain Games : 0.1692238267148014\n",
      "Entertainment;Music & Video : 0.1692238267148014\n",
      "Casual;Brain Games : 0.13537906137184114\n",
      "Casual;Action & Adventure : 0.13537906137184114\n",
      "Arcade;Action & Adventure : 0.12409747292418771\n",
      "Action;Action & Adventure : 0.10153429602888087\n",
      "Educational;Pretend Play : 0.09025270758122744\n",
      "Simulation;Action & Adventure : 0.07897111913357402\n",
      "Parenting;Education : 0.07897111913357402\n",
      "Entertainment;Brain Games : 0.07897111913357402\n",
      "Board;Brain Games : 0.07897111913357402\n",
      "Parenting;Music & Video : 0.06768953068592058\n",
      "Educational;Brain Games : 0.06768953068592058\n",
      "Casual;Creativity : 0.06768953068592058\n",
      "Art & Design;Creativity : 0.06768953068592058\n",
      "Education;Pretend Play : 0.05640794223826715\n",
      "Role Playing;Pretend Play : 0.04512635379061372\n",
      "Education;Creativity : 0.04512635379061372\n",
      "Role Playing;Action & Adventure : 0.03384476534296029\n",
      "Puzzle;Action & Adventure : 0.03384476534296029\n",
      "Entertainment;Creativity : 0.03384476534296029\n",
      "Entertainment;Action & Adventure : 0.03384476534296029\n",
      "Educational;Creativity : 0.03384476534296029\n",
      "Educational;Action & Adventure : 0.03384476534296029\n",
      "Education;Music & Video : 0.03384476534296029\n",
      "Education;Brain Games : 0.03384476534296029\n",
      "Education;Action & Adventure : 0.03384476534296029\n",
      "Adventure;Action & Adventure : 0.03384476534296029\n",
      "Video Players & Editors;Music & Video : 0.02256317689530686\n",
      "Sports;Action & Adventure : 0.02256317689530686\n",
      "Simulation;Pretend Play : 0.02256317689530686\n",
      "Puzzle;Creativity : 0.02256317689530686\n",
      "Music;Music & Video : 0.02256317689530686\n",
      "Entertainment;Pretend Play : 0.02256317689530686\n",
      "Casual;Education : 0.02256317689530686\n",
      "Board;Action & Adventure : 0.02256317689530686\n",
      "Video Players & Editors;Creativity : 0.01128158844765343\n",
      "Trivia;Education : 0.01128158844765343\n",
      "Travel & Local;Action & Adventure : 0.01128158844765343\n",
      "Tools;Education : 0.01128158844765343\n",
      "Strategy;Education : 0.01128158844765343\n",
      "Strategy;Creativity : 0.01128158844765343\n",
      "Strategy;Action & Adventure : 0.01128158844765343\n",
      "Simulation;Education : 0.01128158844765343\n",
      "Role Playing;Brain Games : 0.01128158844765343\n",
      "Racing;Pretend Play : 0.01128158844765343\n",
      "Puzzle;Education : 0.01128158844765343\n",
      "Parenting;Brain Games : 0.01128158844765343\n",
      "Music & Audio;Music & Video : 0.01128158844765343\n",
      "Lifestyle;Pretend Play : 0.01128158844765343\n",
      "Lifestyle;Education : 0.01128158844765343\n",
      "Health & Fitness;Education : 0.01128158844765343\n",
      "Health & Fitness;Action & Adventure : 0.01128158844765343\n",
      "Entertainment;Education : 0.01128158844765343\n",
      "Communication;Creativity : 0.01128158844765343\n",
      "Comics;Creativity : 0.01128158844765343\n",
      "Casual;Music & Video : 0.01128158844765343\n",
      "Card;Action & Adventure : 0.01128158844765343\n",
      "Books & Reference;Education : 0.01128158844765343\n",
      "Art & Design;Pretend Play : 0.01128158844765343\n",
      "Art & Design;Action & Adventure : 0.01128158844765343\n",
      "Arcade;Pretend Play : 0.01128158844765343\n",
      "Adventure;Education : 0.01128158844765343\n"
     ]
    }
   ],
   "source": [
    "display_table(android_apps_free, 9)"
   ]
  },
  {
   "cell_type": "markdown",
   "metadata": {},
   "source": [
    "The difference between the Genres and the Category columns is not crystal clear, but one thing we can notice is that the Genres column is much more granular (it has more categories). We're only looking for the bigger picture at the moment, so we'll only work with the Category column moving forward.\n",
    "\n",
    "Up to this point, we found that the App Store is dominated by apps designed for fun, while Google Play shows a more balanced landscape of both practical and for-fun apps. Now we'd like to get an idea about the kind of apps that have most users."
   ]
  },
  {
   "cell_type": "markdown",
   "metadata": {},
   "source": [
    "# 7 Most popular genres of iOS apps\n",
    "One way to find out what genres are the most popular (have the most users) is to calculate the average number of installs for each app genre. For the Google Play data set, we can find this information in the Installs column, but this information is missing for the App Store data set. As a workaround, we'll take the total number of user ratings as a proxy, which we can find in the `rating_count_tot` app (user Rating counts for all versions - 6th column).\n",
    "\n",
    "Let's start with calculating the average number of user ratings per app genre on the App Store."
   ]
  },
  {
   "cell_type": "code",
   "execution_count": 23,
   "metadata": {},
   "outputs": [
    {
     "name": "stdout",
     "output_type": "stream",
     "text": [
      "Social Networking :  71548\n",
      "Photo & Video :  28442\n",
      "Games :  22789\n",
      "Music :  57327\n",
      "Reference :  74942\n",
      "Health & Fitness :  23298\n",
      "Weather :  52280\n",
      "Utilities :  18684\n",
      "Travel :  28244\n",
      "Shopping :  26920\n",
      "News :  21248\n",
      "Navigation :  86090\n",
      "Lifestyle :  16486\n",
      "Entertainment :  14030\n",
      "Food & Drink :  33334\n",
      "Sports :  23009\n",
      "Book :  39758\n",
      "Finance :  31468\n",
      "Education :  7004\n",
      "Productivity :  21028\n",
      "Business :  7491\n",
      "Catalogs :  4004\n",
      "Medical :  612\n"
     ]
    }
   ],
   "source": [
    "# Generating a frequency table for the prime_genre column (12th column) to get the unique app genres\n",
    "frequency_genre = freq_table(iOS_apps_free, 11)\n",
    "\n",
    "for genre in frequency_genre:\n",
    "    total = 0 #sum of user ratings\n",
    "    len_genre = 0 #number of apps specific to each genre\n",
    "    for app in iOS_apps_free:\n",
    "        app_genre = app[11]\n",
    "        if app_genre == genre:\n",
    "            rating_count_app = float(app[5])\n",
    "            total += rating_count_app\n",
    "            len_genre += 1\n",
    "    average_rating_count = total / len_genre\n",
    "    print(genre, ': ', '{:.0f}'.format(average_rating_count))           "
   ]
  },
  {
   "cell_type": "markdown",
   "metadata": {},
   "source": [
    "On average, navigation apps have the highest number of user reviews, but this figure is heavily influenced by Waze and Google Maps, which have close to half a million user reviews together:"
   ]
  },
  {
   "cell_type": "code",
   "execution_count": 24,
   "metadata": {},
   "outputs": [
    {
     "name": "stdout",
     "output_type": "stream",
     "text": [
      "Waze - GPS Navigation, Maps & Real-time Traffic :  345046\n",
      "Google Maps - Navigation & Transit :  154911\n",
      "Geocaching® :  12811\n",
      "CoPilot GPS – Car Navigation & Offline Maps :  3582\n",
      "ImmobilienScout24: Real Estate Search in Germany :  187\n",
      "Railway Route Search :  5\n"
     ]
    }
   ],
   "source": [
    "for app in iOS_apps_free:\n",
    "    if app[11] == 'Navigation':\n",
    "        print(app[1], ': ', app[5]) # print name and number of ratings"
   ]
  },
  {
   "cell_type": "markdown",
   "metadata": {},
   "source": [
    "The same pattern applies to social networking apps, where the average number is heavily influenced by a few giants like Facebook, Pinterest, Skype, etc. Same applies to music apps, where a few big players like Pandora, Spotify, and Shazam heavily influence the average number.\n",
    "\n",
    "Our aim is to find popular genres, but navigation, social networking or music apps might seem more popular than they really are. The average number of ratings seem to be skewed by very few apps which have hundreds of thousands of user ratings. We could get a better picture by removing these extremely popular apps for each genre and then rework the averages.\n",
    "\n",
    "For that, we'll just consider the apps that have between 1000 and 20000 reviews, which means that have a reasonable number of reviews but not to high to remove the top popular apps against which it will be difficult to compete.\n"
   ]
  },
  {
   "cell_type": "code",
   "execution_count": 38,
   "metadata": {},
   "outputs": [
    {
     "name": "stdout",
     "output_type": "stream",
     "text": [
      "Average number of ratings for apps between 1000 and 20000 reviews\n",
      "\n",
      "\n",
      "Social Networking :  7199 \n",
      " Number of apps between 1000 and 20000 reviews:  37\n",
      "Photo & Video :  6234 \n",
      " Number of apps between 1000 and 20000 reviews:  75\n",
      "Games :  5466 \n",
      " Number of apps between 1000 and 20000 reviews:  606\n",
      "Music :  6356 \n",
      " Number of apps between 1000 and 20000 reviews:  28\n",
      "Reference :  11386 \n",
      " Number of apps between 1000 and 20000 reviews:  7\n",
      "Health & Fitness :  6242 \n",
      " Number of apps between 1000 and 20000 reviews:  29\n",
      "Weather :  3191 \n",
      " Number of apps between 1000 and 20000 reviews:  3\n",
      "Utilities :  4848 \n",
      " Number of apps between 1000 and 20000 reviews:  25\n",
      "Travel :  4387 \n",
      " Number of apps between 1000 and 20000 reviews:  9\n",
      "Shopping :  8124 \n",
      " Number of apps between 1000 and 20000 reviews:  37\n",
      "News :  6953 \n",
      " Number of apps between 1000 and 20000 reviews:  10\n",
      "Navigation :  8196 \n",
      " Number of apps between 1000 and 20000 reviews:  2\n",
      "Lifestyle :  5551 \n",
      " Number of apps between 1000 and 20000 reviews:  21\n",
      "Entertainment :  5859 \n",
      " Number of apps between 1000 and 20000 reviews:  94\n",
      "Food & Drink :  5833 \n",
      " Number of apps between 1000 and 20000 reviews:  9\n",
      "Sports :  7938 \n",
      " Number of apps between 1000 and 20000 reviews:  20\n",
      "Book :  0 \n",
      " Number of apps between 1000 and 20000 reviews:  0\n",
      "Finance :  7380 \n",
      " Number of apps between 1000 and 20000 reviews:  10\n",
      "Education :  5884 \n",
      " Number of apps between 1000 and 20000 reviews:  42\n",
      "Productivity :  8892 \n",
      " Number of apps between 1000 and 20000 reviews:  24\n",
      "Business :  6832 \n",
      " Number of apps between 1000 and 20000 reviews:  6\n",
      "Catalogs :  7686 \n",
      " Number of apps between 1000 and 20000 reviews:  2\n",
      "Medical :  1214 \n",
      " Number of apps between 1000 and 20000 reviews:  3\n"
     ]
    }
   ],
   "source": [
    "# Generating a frequency table for the prime_genre column (12th column) to get the unique app genres\n",
    "frequency_genre = freq_table(iOS_apps_free, 11)\n",
    "\n",
    "print('Average number of ratings for apps between 1000 and 20000 reviews')\n",
    "print('\\n')\n",
    "for genre in frequency_genre:\n",
    "    total = 0 #sum of user ratings\n",
    "    len_genre = 0 #number of apps specific to each genre\n",
    "    for app in iOS_apps_free:\n",
    "        app_genre = app[11]\n",
    "        if app_genre == genre:\n",
    "            rating_count_app = float(app[5])\n",
    "            if rating_count_app <= 20000 and rating_count_app >1000:\n",
    "                total += rating_count_app\n",
    "                len_genre += 1\n",
    "        if len_genre==0:\n",
    "            average_rating_count = 0\n",
    "        else:\n",
    "            average_rating_count = total / len_genre\n",
    "    print(genre, ': ', '{:.0f}'.format(average_rating_count), '\\n Number of apps between 1000 and 20000 reviews: ', len_genre)"
   ]
  },
  {
   "cell_type": "markdown",
   "metadata": {},
   "source": [
    "Let's focus on the apps that have >5000 reviews. <br>\n",
    "If the number of apps is very high (like `Games` genre), it suggests that the market may be saturated. It is very low (like `Food & Drink` genre), it could be interesting to come into the corresponding market, but it may be more difficult to innovate as not so many people are joining this kind of market. <br>\n",
    "Therefore we'll fisrt pay attention to the genres that have a middle number of reviews (let's say between 20 and 100). For example let's take a look at `Education` genre, which has almost 6000 reviews and contains 42 apps."
   ]
  },
  {
   "cell_type": "code",
   "execution_count": 40,
   "metadata": {},
   "outputs": [
    {
     "name": "stdout",
     "output_type": "stream",
     "text": [
      "Canvas by Instructure : 19981\n",
      "ABCmouse.com - Early Learning Academy : 18749\n",
      "Quizlet: Study Flashcards, Languages & Vocabulary : 16683\n",
      "Photomath - Camera Calculator : 16523\n",
      "iTunes U : 15801\n",
      "Blackboard Mobile Learn™ : 13567\n",
      "Star Chart : 13482\n",
      "Remind: Fast, Efficient School Messaging : 9796\n",
      "PBS KIDS Video : 8651\n",
      "Toca Kitchen Monsters : 8062\n",
      "Toca Hair Salon - Christmas Gift : 8049\n",
      "Edmodo : 7197\n",
      "Prodigy Math Game : 6683\n",
      "Epic! - Unlimited Books for Kids : 6676\n",
      "ChineseSkill -Learn Mandarin Chinese Language Free : 6077\n",
      "Google Classroom : 5942\n",
      "TED : 5782\n",
      "Khan Academy: you can learn anything : 5459\n",
      "Got It - Homework Help Math, Chem, Physics Solver : 4903\n",
      "PowerSchool Mobile : 4547\n",
      "SkyView® Free - Explore the Universe : 4188\n",
      "Hopscotch : 4057\n",
      "IXL - Math and English : 3546\n",
      "Simply Piano by JoyTunes - Learn & play piano : 2925\n",
      "Kids A-Z : 2887\n",
      "Infinite Campus Mobile Portal : 2286\n",
      "PlayKids - Educational Cartoons and Games for Kids : 2196\n",
      "Memorado Brain Training for Memory & Mindfulness : 2067\n",
      "Bookshelf : 2064\n",
      "Mathway - Math Problem Solver : 1854\n",
      "Schoology : 1777\n",
      "HelloTalk Language Exchange Learning App : 1619\n",
      "SpellingCity : 1566\n",
      "Nick Jr. : 1541\n",
      "Babbel – Learn Languages Spanish, French & more : 1533\n",
      "Yup - Homework Help with Math & Science Tutors : 1424\n",
      "Mondly: Learn 33 Languages: Spanish English French : 1395\n",
      "WWF Together : 1385\n",
      "Tinycards - Learn with Fun, Free Flashcards : 1131\n",
      "Nearpod : 1057\n",
      "Starfall FREE : 1019\n",
      "Reflex Student : 1010\n"
     ]
    }
   ],
   "source": [
    "for app in iOS_apps_free:\n",
    "    if app[11] == 'Education' and float(app[5])<= 20000 and float(app[5])> 1000:\n",
    "        print(app[1], ':', app[5])"
   ]
  },
  {
   "cell_type": "markdown",
   "metadata": {},
   "source": [
    "There is a potential opportunity in this market. It would be interesting to think of a teaching subject not generally covered by these apps (like teaching the use of advanced features of Microsoft Office package?).\n",
    "\n",
    "Now let's analyze the Google Play market a bit."
   ]
  },
  {
   "cell_type": "markdown",
   "metadata": {},
   "source": [
    "# 8 Most popular genres of Android apps\n",
    "We have data about the number of installs for the Google Play market, so we should be able to get a clearer picture about genre popularity. However, the install numbers don't seem precise enough — we can see that most values are open-ended (100+, 1,000+, 5,000+, etc.):"
   ]
  },
  {
   "cell_type": "code",
   "execution_count": 27,
   "metadata": {},
   "outputs": [
    {
     "name": "stdout",
     "output_type": "stream",
     "text": [
      "1,000,000+ : 15.726534296029072\n",
      "100,000+ : 11.552346570397244\n",
      "10,000,000+ : 10.548285198556075\n",
      "10,000+ : 10.198555956678813\n",
      "1,000+ : 8.393501805054239\n",
      "100+ : 6.915613718411619\n",
      "5,000,000+ : 6.82536101083039\n",
      "500,000+ : 5.561823104693188\n",
      "50,000+ : 4.772111913357437\n",
      "5,000+ : 4.512635379061404\n",
      "10+ : 3.5424187725631953\n",
      "500+ : 3.249097472924202\n",
      "50,000,000+ : 2.3014440433213004\n",
      "100,000,000+ : 2.1322202166064965\n",
      "50+ : 1.9178700361010799\n",
      "5+ : 0.7897111913357411\n",
      "1+ : 0.5076714801444041\n",
      "500,000,000+ : 0.2707581227436822\n",
      "1,000,000,000+ : 0.22563176895306852\n",
      "0+ : 0.04512635379061372\n",
      "0 : 0.01128158844765343\n"
     ]
    }
   ],
   "source": [
    "display_table(android_apps_free,5) #frequency table of the 'Installs' column"
   ]
  },
  {
   "cell_type": "markdown",
   "metadata": {},
   "source": [
    "For instance, we don't know whether an app with 100,000+ installs has 100,000 installs, 200,000, or 350,000. However, we don't need very precise data for our purposes — we only want to find out which app genres attract the most users, and we don't need perfect precision with respect to the number of users.\n",
    "\n",
    "We're going to leave the numbers as they are, which means that we'll consider that an app with 100,000+ installs has 100,000 installs, and an app with 1,000,000+ installs has 1,000,000 installs, and so on. To perform computations, however, we'll need to convert each install number from string to float. This means we need to remove the commas and the plus characters, otherwise the conversion will fail and raise an error.\n",
    "\n",
    "Now let's calculate the average number of installs per app genre for the Google Play data set."
   ]
  },
  {
   "cell_type": "code",
   "execution_count": 28,
   "metadata": {},
   "outputs": [
    {
     "name": "stdout",
     "output_type": "stream",
     "text": [
      "ART_AND_DESIGN :  1.99e+06\n",
      "AUTO_AND_VEHICLES :  6.47e+05\n",
      "BEAUTY :  5.13e+05\n",
      "BOOKS_AND_REFERENCE :  8.77e+06\n",
      "BUSINESS :  1.71e+06\n",
      "COMICS :  8.18e+05\n",
      "COMMUNICATION :  3.85e+07\n",
      "DATING :  8.54e+05\n",
      "EDUCATION :  1.83e+06\n",
      "ENTERTAINMENT :  1.16e+07\n",
      "EVENTS :  2.54e+05\n",
      "FINANCE :  1.39e+06\n",
      "FOOD_AND_DRINK :  1.92e+06\n",
      "HEALTH_AND_FITNESS :  4.19e+06\n",
      "HOUSE_AND_HOME :  1.33e+06\n",
      "LIBRARIES_AND_DEMO :  6.39e+05\n",
      "LIFESTYLE :  1.44e+06\n",
      "GAME :  1.56e+07\n",
      "FAMILY :  3.70e+06\n",
      "MEDICAL :  1.21e+05\n",
      "SOCIAL :  2.33e+07\n",
      "SHOPPING :  7.04e+06\n",
      "PHOTOGRAPHY :  1.78e+07\n",
      "SPORTS :  3.64e+06\n",
      "TRAVEL_AND_LOCAL :  1.40e+07\n",
      "TOOLS :  1.08e+07\n",
      "PERSONALIZATION :  5.20e+06\n",
      "PRODUCTIVITY :  1.68e+07\n",
      "PARENTING :  5.43e+05\n",
      "WEATHER :  5.07e+06\n",
      "VIDEO_PLAYERS :  2.47e+07\n",
      "NEWS_AND_MAGAZINES :  9.55e+06\n",
      "MAPS_AND_NAVIGATION :  4.06e+06\n"
     ]
    }
   ],
   "source": [
    "# Generating a frequency table for the Category column (2nd column) to get the unique app genres\n",
    "frequency_category = freq_table(android_apps_free, 1)\n",
    "\n",
    "for category in frequency_category:\n",
    "    total = 0 #sum of installs specific to each genre\n",
    "    len_category = 0 #number of apps specific to each genre\n",
    "    for app in android_apps_free:\n",
    "        app_category = app[1]\n",
    "        if app_category == category:\n",
    "            no_installs = app[5]\n",
    "            no_installs = no_installs.replace('+','')\n",
    "            no_installs = no_installs.replace(',','')\n",
    "            no_installs = float(no_installs)\n",
    "            total += no_installs\n",
    "            len_category += 1\n",
    "    average_installs = total / len_category\n",
    "    print(category, ': ', '{:.2e}'.format(average_installs))   "
   ]
  },
  {
   "cell_type": "markdown",
   "metadata": {},
   "source": [
    "On average, communication apps have the most installs: 38.5 millions. This number is heavily skewed up by a few apps that have over one billion installs (WhatsApp, Facebook Messenger, Skype, Google Chrome, Gmail, and Hangouts), and a few others with over 100 and 500 million installs:"
   ]
  },
  {
   "cell_type": "code",
   "execution_count": 29,
   "metadata": {},
   "outputs": [
    {
     "name": "stdout",
     "output_type": "stream",
     "text": [
      "WhatsApp Messenger : 1,000,000,000+\n",
      "imo beta free calls and text : 100,000,000+\n",
      "Android Messages : 100,000,000+\n",
      "Google Duo - High Quality Video Calls : 500,000,000+\n",
      "Messenger – Text and Video Chat for Free : 1,000,000,000+\n",
      "imo free video calls and chat : 500,000,000+\n",
      "Skype - free IM & video calls : 1,000,000,000+\n",
      "Who : 100,000,000+\n",
      "GO SMS Pro - Messenger, Free Themes, Emoji : 100,000,000+\n",
      "LINE: Free Calls & Messages : 500,000,000+\n",
      "Google Chrome: Fast & Secure : 1,000,000,000+\n",
      "Firefox Browser fast & private : 100,000,000+\n",
      "UC Browser - Fast Download Private & Secure : 500,000,000+\n",
      "Gmail : 1,000,000,000+\n",
      "Hangouts : 1,000,000,000+\n",
      "Messenger Lite: Free Calls & Messages : 100,000,000+\n",
      "Kik : 100,000,000+\n",
      "KakaoTalk: Free Calls & Text : 100,000,000+\n",
      "Opera Mini - fast web browser : 100,000,000+\n",
      "Opera Browser: Fast and Secure : 100,000,000+\n",
      "Telegram : 100,000,000+\n",
      "Truecaller: Caller ID, SMS spam blocking & Dialer : 100,000,000+\n",
      "UC Browser Mini -Tiny Fast Private & Secure : 100,000,000+\n",
      "Viber Messenger : 500,000,000+\n",
      "WeChat : 100,000,000+\n",
      "Yahoo Mail – Stay Organized : 100,000,000+\n",
      "BBM - Free Calls & Messages : 100,000,000+\n"
     ]
    }
   ],
   "source": [
    "def above_100m(category):\n",
    "    for app in android_apps_free:\n",
    "        if app[1] == category and (app[5] == '1,000,000,000+'\n",
    "                                      or app[5] == '500,000,000+'\n",
    "                                      or app[5] == '100,000,000+'):\n",
    "            print(app[0], ':', app[5])\n",
    "\n",
    "above_100m('COMMUNICATION')"
   ]
  },
  {
   "cell_type": "markdown",
   "metadata": {},
   "source": [
    "If we removed all the communication apps that have over 100 million installs, the average would be reduced roughly ten times:"
   ]
  },
  {
   "cell_type": "code",
   "execution_count": 30,
   "metadata": {},
   "outputs": [
    {
     "name": "stdout",
     "output_type": "stream",
     "text": [
      "COMMUNICATION :  3603485 for apps under  100000000  installs\n"
     ]
    }
   ],
   "source": [
    "def installs_under_X(category, X):\n",
    "    under_X = []\n",
    "    for app in android_apps_free:\n",
    "        n_installs = app[5]\n",
    "        n_installs = n_installs.replace(',', '')\n",
    "        n_installs = n_installs.replace('+', '')\n",
    "        if (app[1] == category) and (float(n_installs) < X):\n",
    "            under_X.append(float(n_installs))\n",
    "    average_installs_under_X = sum(under_X) / len(under_X)\n",
    "    print(category, ': ', int(average_installs_under_X), 'for apps under ', int(X), ' installs') \n",
    "\n",
    "installs_under_X('COMMUNICATION',100e6) "
   ]
  },
  {
   "cell_type": "markdown",
   "metadata": {},
   "source": [
    "We see the same pattern for the video players category, which is the runner-up with 24,727,872 installs. The market is dominated by apps like Youtube, Google Play Movies & TV, or MX Player. The pattern is repeated for social apps (where we have giants like Facebook, Instagram, Google+, etc.), photography apps (Google Photos and other popular photo editors), or productivity apps (Microsoft Word, Dropbox, Google Calendar, Evernote, etc.).\n",
    "\n",
    "The game genre seems pretty popular, but previously we found out this part of the market seems a bit saturated, so we'd like to come up with a different app recommendation if possible.\n",
    "\n",
    "We understand then there are two facts that should thoughtfully be considered:\n",
    "- Categories with very high number of installs may be skewed up by a few appss from IT giants, and it would extremely difficult to compete against them\n",
    "- Some categories with significant number of installs (let's say above 10M or around it) are already full of apps so the market may be almost saturated\n",
    "\n",
    "Therefore the strategy will be as follows:\n",
    "- Look at the categories with high number of installs by first removing the apps with installs>100M\n",
    "- See if there are opportunities for these categories and join the market\n",
    "\n",
    "For that, we will reproduce the nested loop we did to get the averae number of installs by category, and a condition in the inner loop not to consider apps with installs>100M.\n"
   ]
  },
  {
   "cell_type": "code",
   "execution_count": 31,
   "metadata": {},
   "outputs": [
    {
     "name": "stdout",
     "output_type": "stream",
     "text": [
      "ART_AND_DESIGN : \n",
      " Average installs: 9.08e+06 \n",
      " Number of apps between 1M and 100M: 12\n",
      "AUTO_AND_VEHICLES : \n",
      " Average installs: 2.67e+06 \n",
      " Number of apps between 1M and 100M: 18\n",
      "BEAUTY : \n",
      " Average installs: 2.30e+06 \n",
      " Number of apps between 1M and 100M: 10\n",
      "BOOKS_AND_REFERENCE : \n",
      " Average installs: 5.31e+06 \n",
      " Number of apps between 1M and 100M: 48\n",
      "BUSINESS : \n",
      " Average installs: 7.30e+06 \n",
      " Number of apps between 1M and 100M: 67\n",
      "COMICS : \n",
      " Average installs: 2.56e+06 \n",
      " Number of apps between 1M and 100M: 16\n",
      "COMMUNICATION : \n",
      " Average installs: 8.30e+06 \n",
      " Number of apps between 1M and 100M: 112\n",
      "DATING : \n",
      " Average installs: 3.91e+06 \n",
      " Number of apps between 1M and 100M: 33\n",
      "EDUCATION : \n",
      " Average installs: 2.97e+06 \n",
      " Number of apps between 1M and 100M: 61\n",
      "ENTERTAINMENT : \n",
      " Average installs: 7.18e+06 \n",
      " Number of apps between 1M and 100M: 68\n",
      "EVENTS : \n",
      " Average installs: 2.33e+06 \n",
      " Number of apps between 1M and 100M: 6\n",
      "FINANCE : \n",
      " Average installs: 3.72e+06 \n",
      " Number of apps between 1M and 100M: 92\n",
      "FOOD_AND_DRINK : \n",
      " Average installs: 4.20e+06 \n",
      " Number of apps between 1M and 100M: 49\n",
      "HEALTH_AND_FITNESS : \n",
      " Average installs: 4.78e+06 \n",
      " Number of apps between 1M and 100M: 110\n",
      "HOUSE_AND_HOME : \n",
      " Average installs: 3.03e+06 \n",
      " Number of apps between 1M and 100M: 30\n",
      "LIBRARIES_AND_DEMO : \n",
      " Average installs: 3.69e+06 \n",
      " Number of apps between 1M and 100M: 13\n",
      "LIFESTYLE : \n",
      " Average installs: 4.73e+06 \n",
      " Number of apps between 1M and 100M: 81\n",
      "GAME : \n",
      " Average installs: 1.06e+07 \n",
      " Number of apps between 1M and 100M: 472\n",
      "FAMILY : \n",
      " Average installs: 7.02e+06 \n",
      " Number of apps between 1M and 100M: 543\n",
      "MEDICAL : \n",
      " Average installs: 1.44e+06 \n",
      " Number of apps between 1M and 100M: 18\n",
      "SOCIAL : \n",
      " Average installs: 7.79e+06 \n",
      " Number of apps between 1M and 100M: 87\n",
      "SHOPPING : \n",
      " Average installs: 8.80e+06 \n",
      " Number of apps between 1M and 100M: 101\n",
      "PHOTOGRAPHY : \n",
      " Average installs: 1.21e+07 \n",
      " Number of apps between 1M and 100M: 153\n",
      "SPORTS : \n",
      " Average installs: 7.68e+06 \n",
      " Number of apps between 1M and 100M: 115\n",
      "TRAVEL_AND_LOCAL : \n",
      " Average installs: 6.68e+06 \n",
      " Number of apps between 1M and 100M: 88\n",
      "TOOLS : \n",
      " Average installs: 9.29e+06 \n",
      " Number of apps between 1M and 100M: 245\n",
      "PERSONALIZATION : \n",
      " Average installs: 7.17e+06 \n",
      " Number of apps between 1M and 100M: 100\n",
      "PRODUCTIVITY : \n",
      " Average installs: 8.65e+06 \n",
      " Number of apps between 1M and 100M: 125\n",
      "PARENTING : \n",
      " Average installs: 1.87e+06 \n",
      " Number of apps between 1M and 100M: 15\n",
      "WEATHER : \n",
      " Average installs: 8.48e+06 \n",
      " Number of apps between 1M and 100M: 42\n",
      "VIDEO_PLAYERS : \n",
      " Average installs: 1.09e+07 \n",
      " Number of apps between 1M and 100M: 76\n",
      "NEWS_AND_MAGAZINES : \n",
      " Average installs: 4.51e+06 \n",
      " Number of apps between 1M and 100M: 80\n",
      "MAPS_AND_NAVIGATION : \n",
      " Average installs: 5.77e+06 \n",
      " Number of apps between 1M and 100M: 52\n"
     ]
    }
   ],
   "source": [
    "# Generating a frequency table for the Category column (2nd column) to get the unique app genres\n",
    "frequency_category = freq_table(android_apps_free, 1)\n",
    "\n",
    "for category in frequency_category:\n",
    "    total = 0 #sum of installs specific to each genre\n",
    "    len_category = 0 #number of apps specific to each genre\n",
    "    for app in android_apps_free:\n",
    "        app_category = app[1]\n",
    "        if app_category == category:\n",
    "            no_installs = app[5]\n",
    "            no_installs = no_installs.replace('+','')\n",
    "            no_installs = no_installs.replace(',','')\n",
    "            no_installs = float(no_installs)\n",
    "            if no_installs<100e6 and no_installs>=1e6:\n",
    "                total += no_installs\n",
    "                len_category += 1\n",
    "    average_installs = total / len_category\n",
    "    print(category, ': \\n Average installs:', '{:.2e}'.format(average_installs), '\\n Number of apps between 1M and 100M:', len_category)"
   ]
  },
  {
   "cell_type": "markdown",
   "metadata": {},
   "source": [
    "We can observe that, by removing apps with installs above 100 millions, there is a balance between a good couple of categories which have more than 1 million installs, like `ART AND DESIGN`, `BOOKS AND REFERENCE`, `COMMUNICATION`, `EDUCATION`, `ENTERTAINMENT`, `PERSONALIZATION`, and more.\n",
    "\n",
    "We'll first concentrate on the genres that have around 100 apps or less, to avoid too high competitive markets.\n",
    "Let's have a look for example at `EDUCATION` (1.8M installs) and `ART_AND_DESIGN` (2M installs)."
   ]
  },
  {
   "cell_type": "code",
   "execution_count": 32,
   "metadata": {},
   "outputs": [
    {
     "name": "stdout",
     "output_type": "stream",
     "text": [
      "Khan Academy : 5,000,000+\n",
      "Learn Spanish - Español : 1,000,000+\n",
      "English for beginners : 1,000,000+\n",
      "Mermaids : 5,000,000+\n",
      "Learn Japanese, Korean, Chinese Offline & Free : 1,000,000+\n",
      "Cars Coloring Pages : 1,000,000+\n",
      "Math Tricks : 10,000,000+\n",
      "Learn English Words Free : 5,000,000+\n",
      "English speaking texts : 1,000,000+\n",
      "Thai Handwriting : 1,000,000+\n",
      "THAI DICT 2018 : 1,000,000+\n",
      "Kanji test · Han search Kanji training (free version) : 1,000,000+\n",
      "Free intellectual training game application | : 1,000,000+\n",
      "ABC Preschool Free : 5,000,000+\n",
      "PINKFONG Baby Shark : 1,000,000+\n",
      "Lumosity: #1 Brain Games & Cognitive Training App : 10,000,000+\n",
      "English with Lingualeo : 5,000,000+\n",
      "Quizlet: Learn Languages & Vocab with Flashcards : 10,000,000+\n",
      "Udemy - Online Courses : 1,000,000+\n",
      "Coursera: Online courses : 5,000,000+\n",
      "edX - Online Courses by Harvard, MIT & more : 1,000,000+\n",
      "Elevate - Brain Training Games : 5,000,000+\n",
      "NeuroNation - Focus and Brain Training : 5,000,000+\n",
      "Memorado - Brain Games : 1,000,000+\n",
      "Lynda - Online Training Videos : 1,000,000+\n",
      "Brilliant : 1,000,000+\n",
      "CppDroid - C/C++ IDE : 1,000,000+\n",
      "C++ Programming : 1,000,000+\n",
      "C Programming : 1,000,000+\n",
      "Udacity - Lifelong Learning : 1,000,000+\n",
      "Learn C++ : 1,000,000+\n",
      "Learn programming : 1,000,000+\n",
      "Learn JavaScript : 1,000,000+\n",
      "Learn Java : 1,000,000+\n",
      "Learn HTML : 1,000,000+\n",
      "Programming Hub, Learn to code : 1,000,000+\n",
      "Learn SQL : 1,000,000+\n",
      "Socratic - Math Answers & Homework Help : 1,000,000+\n",
      "LinkedIn Learning: Online Courses to Learn Skills : 1,000,000+\n",
      "Learn English with Phrases : 1,000,000+\n",
      "Free english course : 5,000,000+\n",
      "Learn 50 languages : 5,000,000+\n",
      "Rosetta Stone: Learn to Speak & Read New Languages : 5,000,000+\n",
      "Babbel – Learn Spanish : 1,000,000+\n",
      "Learn English with Aco : 1,000,000+\n",
      "Learn to Speak English : 1,000,000+\n",
      "Learn English with Wlingua : 10,000,000+\n",
      "My Class Schedule: Timetable : 1,000,000+\n",
      "My Study Life - School Planner : 1,000,000+\n",
      "HomeWork : 1,000,000+\n",
      "myHomework Student Planner : 1,000,000+\n",
      "Remind: School Communication : 10,000,000+\n",
      "Google Classroom : 10,000,000+\n",
      "ClassDojo : 10,000,000+\n",
      "Learn languages, grammar & vocabulary with Memrise : 10,000,000+\n",
      "Chegg Study - Homework Help : 1,000,000+\n",
      "Canvas Student : 1,000,000+\n",
      "Timetable : 1,000,000+\n",
      "HelloTalk — Chat, Speak & Learn Foreign Languages : 5,000,000+\n",
      "SoloLearn: Learn to Code for Free : 1,000,000+\n",
      "Blinkist - Nonfiction Books : 1,000,000+\n",
      "\n",
      "\n",
      "Number of apps above 1 million installs in EDUCATION genre:  61\n"
     ]
    }
   ],
   "source": [
    "no_apps = 0\n",
    "for app in android_apps_free:\n",
    "    if app[1] == 'EDUCATION' and (app[5] == '1,000,000+'\n",
    "                                            or app[5] == '5,000,000+'\n",
    "                                            or app[5] == '10,000,000+'\n",
    "                                            or app[5] == '50,000,000+'):\n",
    "        print(app[0], ':', app[5])\n",
    "        no_apps += 1\n",
    "print('\\n')\n",
    "print('Number of apps above 1 million installs in EDUCATION genre: ', no_apps)"
   ]
  },
  {
   "cell_type": "markdown",
   "metadata": {},
   "source": [
    "The education genre seems to be interesting. We can't identify apps crushing their competitors. <br>\n",
    "Moreover, the themes of learning look various: foreign languages, science, programming language, and apps with generic teaching (like Coursera or Udemy). <br>\n",
    "Apparently there is a potential opportunity in this market. For example, we may create an app to teach advanced features of some basic IT tools like Microsoft Apps (which proves to be very useful for professionals). <br> <br>\n"
   ]
  },
  {
   "cell_type": "markdown",
   "metadata": {},
   "source": [
    "# 9 Conclusions\n",
    "In this project, we analyzed data about the App Store and Google Play mobile apps with the goal of recommending an app profile that can be profitable for both markets.\n",
    "\n",
    "We concluded that there are opportunities for a couple of genres for both iOS and Android. We just concentrated on the example of the `EDUCATION` genre as an example but many other categories are likely to be profitable as well (like `PRODUCTIVITY`, `REFERENCE`, `NEWS` to name a few)."
   ]
  }
 ],
 "metadata": {
  "kernelspec": {
   "display_name": "Python 3",
   "language": "python",
   "name": "python3"
  },
  "language_info": {
   "codemirror_mode": {
    "name": "ipython",
    "version": 3
   },
   "file_extension": ".py",
   "mimetype": "text/x-python",
   "name": "python",
   "nbconvert_exporter": "python",
   "pygments_lexer": "ipython3",
   "version": "3.7.6"
  }
 },
 "nbformat": 4,
 "nbformat_minor": 4
}
